{
 "cells": [
  {
   "cell_type": "markdown",
   "metadata": {},
   "source": [
    "## Observations and Insights "
   ]
  },
  {
   "cell_type": "markdown",
   "metadata": {},
   "source": [
    "The Drug regimen of Capomulin was effective in reducing the tumor volume in a mouse over a 45 day period by 35%. Continuing the study past 45 days could tell us the efficacy of Capomulin.  \n",
    "\n",
    "Both regimens had the lowest mean, and lowest Standard deviations. With a starting tumor volume of 45, only Capomulin and Ramicane reduced tumor volume after 45 days. Based on final tumor volume both Capomulin and Ramicane appeared to be equally effective.\n",
    "\n",
    "There is a positive correlation between average tumor volume and weight within the subject mice at 0.84.  But what does that mean?  Correlation does not imply causation.\n",
    "\n",
    "The study population was 51% / 49% male to female. Further analysis shows that Capomulin's population was 55.7% female and 44.3% male, while Ramicane's population was 67.5% male and 32.5% female.  It would be worth further study to sex correlates to efficacy of these drug regimens.  "
   ]
  },
  {
   "cell_type": "code",
   "execution_count": 1,
   "metadata": {},
   "outputs": [
    {
     "data": {
      "text/html": [
       "<div>\n",
       "<style scoped>\n",
       "    .dataframe tbody tr th:only-of-type {\n",
       "        vertical-align: middle;\n",
       "    }\n",
       "\n",
       "    .dataframe tbody tr th {\n",
       "        vertical-align: top;\n",
       "    }\n",
       "\n",
       "    .dataframe thead th {\n",
       "        text-align: right;\n",
       "    }\n",
       "</style>\n",
       "<table border=\"1\" class=\"dataframe\">\n",
       "  <thead>\n",
       "    <tr style=\"text-align: right;\">\n",
       "      <th></th>\n",
       "      <th>Mouse ID</th>\n",
       "      <th>Timepoint</th>\n",
       "      <th>Tumor Volume (mm3)</th>\n",
       "      <th>Metastatic Sites</th>\n",
       "      <th>Drug Regimen</th>\n",
       "      <th>Sex</th>\n",
       "      <th>Age_months</th>\n",
       "      <th>Weight (g)</th>\n",
       "    </tr>\n",
       "  </thead>\n",
       "  <tbody>\n",
       "    <tr>\n",
       "      <th>0</th>\n",
       "      <td>b128</td>\n",
       "      <td>0</td>\n",
       "      <td>45.000000</td>\n",
       "      <td>0</td>\n",
       "      <td>Capomulin</td>\n",
       "      <td>Female</td>\n",
       "      <td>9</td>\n",
       "      <td>22</td>\n",
       "    </tr>\n",
       "    <tr>\n",
       "      <th>1</th>\n",
       "      <td>b128</td>\n",
       "      <td>5</td>\n",
       "      <td>45.651331</td>\n",
       "      <td>0</td>\n",
       "      <td>Capomulin</td>\n",
       "      <td>Female</td>\n",
       "      <td>9</td>\n",
       "      <td>22</td>\n",
       "    </tr>\n",
       "    <tr>\n",
       "      <th>2</th>\n",
       "      <td>b128</td>\n",
       "      <td>10</td>\n",
       "      <td>43.270852</td>\n",
       "      <td>0</td>\n",
       "      <td>Capomulin</td>\n",
       "      <td>Female</td>\n",
       "      <td>9</td>\n",
       "      <td>22</td>\n",
       "    </tr>\n",
       "    <tr>\n",
       "      <th>3</th>\n",
       "      <td>b128</td>\n",
       "      <td>15</td>\n",
       "      <td>43.784893</td>\n",
       "      <td>0</td>\n",
       "      <td>Capomulin</td>\n",
       "      <td>Female</td>\n",
       "      <td>9</td>\n",
       "      <td>22</td>\n",
       "    </tr>\n",
       "    <tr>\n",
       "      <th>4</th>\n",
       "      <td>b128</td>\n",
       "      <td>20</td>\n",
       "      <td>42.731552</td>\n",
       "      <td>0</td>\n",
       "      <td>Capomulin</td>\n",
       "      <td>Female</td>\n",
       "      <td>9</td>\n",
       "      <td>22</td>\n",
       "    </tr>\n",
       "    <tr>\n",
       "      <th>...</th>\n",
       "      <td>...</td>\n",
       "      <td>...</td>\n",
       "      <td>...</td>\n",
       "      <td>...</td>\n",
       "      <td>...</td>\n",
       "      <td>...</td>\n",
       "      <td>...</td>\n",
       "      <td>...</td>\n",
       "    </tr>\n",
       "    <tr>\n",
       "      <th>1888</th>\n",
       "      <td>m601</td>\n",
       "      <td>25</td>\n",
       "      <td>33.118756</td>\n",
       "      <td>1</td>\n",
       "      <td>Capomulin</td>\n",
       "      <td>Male</td>\n",
       "      <td>22</td>\n",
       "      <td>17</td>\n",
       "    </tr>\n",
       "    <tr>\n",
       "      <th>1889</th>\n",
       "      <td>m601</td>\n",
       "      <td>30</td>\n",
       "      <td>31.758275</td>\n",
       "      <td>1</td>\n",
       "      <td>Capomulin</td>\n",
       "      <td>Male</td>\n",
       "      <td>22</td>\n",
       "      <td>17</td>\n",
       "    </tr>\n",
       "    <tr>\n",
       "      <th>1890</th>\n",
       "      <td>m601</td>\n",
       "      <td>35</td>\n",
       "      <td>30.834357</td>\n",
       "      <td>1</td>\n",
       "      <td>Capomulin</td>\n",
       "      <td>Male</td>\n",
       "      <td>22</td>\n",
       "      <td>17</td>\n",
       "    </tr>\n",
       "    <tr>\n",
       "      <th>1891</th>\n",
       "      <td>m601</td>\n",
       "      <td>40</td>\n",
       "      <td>31.378045</td>\n",
       "      <td>1</td>\n",
       "      <td>Capomulin</td>\n",
       "      <td>Male</td>\n",
       "      <td>22</td>\n",
       "      <td>17</td>\n",
       "    </tr>\n",
       "    <tr>\n",
       "      <th>1892</th>\n",
       "      <td>m601</td>\n",
       "      <td>45</td>\n",
       "      <td>28.430964</td>\n",
       "      <td>1</td>\n",
       "      <td>Capomulin</td>\n",
       "      <td>Male</td>\n",
       "      <td>22</td>\n",
       "      <td>17</td>\n",
       "    </tr>\n",
       "  </tbody>\n",
       "</table>\n",
       "<p>1893 rows × 8 columns</p>\n",
       "</div>"
      ],
      "text/plain": [
       "     Mouse ID  Timepoint  Tumor Volume (mm3)  Metastatic Sites Drug Regimen  \\\n",
       "0        b128          0           45.000000                 0    Capomulin   \n",
       "1        b128          5           45.651331                 0    Capomulin   \n",
       "2        b128         10           43.270852                 0    Capomulin   \n",
       "3        b128         15           43.784893                 0    Capomulin   \n",
       "4        b128         20           42.731552                 0    Capomulin   \n",
       "...       ...        ...                 ...               ...          ...   \n",
       "1888     m601         25           33.118756                 1    Capomulin   \n",
       "1889     m601         30           31.758275                 1    Capomulin   \n",
       "1890     m601         35           30.834357                 1    Capomulin   \n",
       "1891     m601         40           31.378045                 1    Capomulin   \n",
       "1892     m601         45           28.430964                 1    Capomulin   \n",
       "\n",
       "         Sex  Age_months  Weight (g)  \n",
       "0     Female           9          22  \n",
       "1     Female           9          22  \n",
       "2     Female           9          22  \n",
       "3     Female           9          22  \n",
       "4     Female           9          22  \n",
       "...      ...         ...         ...  \n",
       "1888    Male          22          17  \n",
       "1889    Male          22          17  \n",
       "1890    Male          22          17  \n",
       "1891    Male          22          17  \n",
       "1892    Male          22          17  \n",
       "\n",
       "[1893 rows x 8 columns]"
      ]
     },
     "execution_count": 1,
     "metadata": {},
     "output_type": "execute_result"
    }
   ],
   "source": [
    "# Dependencies and Setup\n",
    "import matplotlib.pyplot as plt\n",
    "import pandas as pd\n",
    "import numpy as np\n",
    "import scipy.stats as st\n",
    "from scipy.stats import linregress\n",
    "\n",
    "# Load the data files\n",
    "mouse_metadata_path = \"resources/Mouse_metadata.csv\"\n",
    "study_results_path = \"resources/Study_results.csv\"\n",
    "\n",
    "# Read the data and the study results\n",
    "mouse_metadata = pd.read_csv(mouse_metadata_path)\n",
    "study_results = pd.read_csv(study_results_path)\n",
    "\n",
    "# Combine the data into a single dataset\n",
    "merged_df = study_results.merge(mouse_metadata, on = 'Mouse ID')\n",
    "merged_df"
   ]
  },
  {
   "cell_type": "code",
   "execution_count": 2,
   "metadata": {
    "scrolled": true
   },
   "outputs": [
    {
     "data": {
      "text/plain": [
       "a444    1\n",
       "u149    1\n",
       "g867    1\n",
       "s152    1\n",
       "n304    1\n",
       "       ..\n",
       "k862    1\n",
       "c458    1\n",
       "z578    1\n",
       "y793    1\n",
       "a685    1\n",
       "Name: Mouse ID, Length: 249, dtype: int64"
      ]
     },
     "execution_count": 2,
     "metadata": {},
     "output_type": "execute_result"
    }
   ],
   "source": [
    "# Checking the number of mice in the DataFrame.\n",
    "mouse_metadata['Mouse ID'].value_counts()"
   ]
  },
  {
   "cell_type": "code",
   "execution_count": 3,
   "metadata": {},
   "outputs": [
    {
     "data": {
      "text/plain": [
       "g989    13\n",
       "a251    10\n",
       "g497    10\n",
       "w575    10\n",
       "u364    10\n",
       "        ..\n",
       "v199     1\n",
       "h428     1\n",
       "x226     1\n",
       "b447     1\n",
       "o848     1\n",
       "Name: Mouse ID, Length: 249, dtype: int64"
      ]
     },
     "execution_count": 3,
     "metadata": {},
     "output_type": "execute_result"
    }
   ],
   "source": [
    "#merged_df.count()\n",
    "merged_df['Mouse ID'].value_counts()"
   ]
  },
  {
   "cell_type": "markdown",
   "metadata": {},
   "source": [
    "## Summary Statistics"
   ]
  },
  {
   "cell_type": "code",
   "execution_count": 4,
   "metadata": {
    "scrolled": true
   },
   "outputs": [
    {
     "data": {
      "text/html": [
       "<div>\n",
       "<style scoped>\n",
       "    .dataframe tbody tr th:only-of-type {\n",
       "        vertical-align: middle;\n",
       "    }\n",
       "\n",
       "    .dataframe tbody tr th {\n",
       "        vertical-align: top;\n",
       "    }\n",
       "\n",
       "    .dataframe thead th {\n",
       "        text-align: right;\n",
       "    }\n",
       "</style>\n",
       "<table border=\"1\" class=\"dataframe\">\n",
       "  <thead>\n",
       "    <tr style=\"text-align: right;\">\n",
       "      <th></th>\n",
       "      <th>Mean</th>\n",
       "      <th>Median</th>\n",
       "      <th>Variance</th>\n",
       "      <th>Standard Deviation</th>\n",
       "      <th>SEM</th>\n",
       "    </tr>\n",
       "    <tr>\n",
       "      <th>Drug Regimen</th>\n",
       "      <th></th>\n",
       "      <th></th>\n",
       "      <th></th>\n",
       "      <th></th>\n",
       "      <th></th>\n",
       "    </tr>\n",
       "  </thead>\n",
       "  <tbody>\n",
       "    <tr>\n",
       "      <th>Capomulin</th>\n",
       "      <td>40.675741</td>\n",
       "      <td>41.557809</td>\n",
       "      <td>24.947764</td>\n",
       "      <td>4.994774</td>\n",
       "      <td>0.329346</td>\n",
       "    </tr>\n",
       "    <tr>\n",
       "      <th>Ceftamin</th>\n",
       "      <td>52.591172</td>\n",
       "      <td>51.776157</td>\n",
       "      <td>39.290177</td>\n",
       "      <td>6.268188</td>\n",
       "      <td>0.469821</td>\n",
       "    </tr>\n",
       "    <tr>\n",
       "      <th>Infubinol</th>\n",
       "      <td>52.884795</td>\n",
       "      <td>51.820584</td>\n",
       "      <td>43.128684</td>\n",
       "      <td>6.567243</td>\n",
       "      <td>0.492236</td>\n",
       "    </tr>\n",
       "    <tr>\n",
       "      <th>Ketapril</th>\n",
       "      <td>55.235638</td>\n",
       "      <td>53.698743</td>\n",
       "      <td>68.553577</td>\n",
       "      <td>8.279709</td>\n",
       "      <td>0.603860</td>\n",
       "    </tr>\n",
       "    <tr>\n",
       "      <th>Naftisol</th>\n",
       "      <td>54.331565</td>\n",
       "      <td>52.509285</td>\n",
       "      <td>66.173479</td>\n",
       "      <td>8.134708</td>\n",
       "      <td>0.596466</td>\n",
       "    </tr>\n",
       "    <tr>\n",
       "      <th>Placebo</th>\n",
       "      <td>54.033581</td>\n",
       "      <td>52.288934</td>\n",
       "      <td>61.168083</td>\n",
       "      <td>7.821003</td>\n",
       "      <td>0.581331</td>\n",
       "    </tr>\n",
       "    <tr>\n",
       "      <th>Propriva</th>\n",
       "      <td>52.322552</td>\n",
       "      <td>50.854632</td>\n",
       "      <td>42.351070</td>\n",
       "      <td>6.507770</td>\n",
       "      <td>0.512884</td>\n",
       "    </tr>\n",
       "    <tr>\n",
       "      <th>Ramicane</th>\n",
       "      <td>40.216745</td>\n",
       "      <td>40.673236</td>\n",
       "      <td>23.486704</td>\n",
       "      <td>4.846308</td>\n",
       "      <td>0.320955</td>\n",
       "    </tr>\n",
       "    <tr>\n",
       "      <th>Stelasyn</th>\n",
       "      <td>54.233149</td>\n",
       "      <td>52.431737</td>\n",
       "      <td>59.450562</td>\n",
       "      <td>7.710419</td>\n",
       "      <td>0.573111</td>\n",
       "    </tr>\n",
       "    <tr>\n",
       "      <th>Zoniferol</th>\n",
       "      <td>53.236507</td>\n",
       "      <td>51.818479</td>\n",
       "      <td>48.533355</td>\n",
       "      <td>6.966589</td>\n",
       "      <td>0.516398</td>\n",
       "    </tr>\n",
       "  </tbody>\n",
       "</table>\n",
       "</div>"
      ],
      "text/plain": [
       "                   Mean     Median   Variance  Standard Deviation       SEM\n",
       "Drug Regimen                                                               \n",
       "Capomulin     40.675741  41.557809  24.947764            4.994774  0.329346\n",
       "Ceftamin      52.591172  51.776157  39.290177            6.268188  0.469821\n",
       "Infubinol     52.884795  51.820584  43.128684            6.567243  0.492236\n",
       "Ketapril      55.235638  53.698743  68.553577            8.279709  0.603860\n",
       "Naftisol      54.331565  52.509285  66.173479            8.134708  0.596466\n",
       "Placebo       54.033581  52.288934  61.168083            7.821003  0.581331\n",
       "Propriva      52.322552  50.854632  42.351070            6.507770  0.512884\n",
       "Ramicane      40.216745  40.673236  23.486704            4.846308  0.320955\n",
       "Stelasyn      54.233149  52.431737  59.450562            7.710419  0.573111\n",
       "Zoniferol     53.236507  51.818479  48.533355            6.966589  0.516398"
      ]
     },
     "execution_count": 4,
     "metadata": {},
     "output_type": "execute_result"
    }
   ],
   "source": [
    "# Generate a summary statistics table of mean, median, variance, standard deviation, and SEM of the tumor volume for each regimen\n",
    "# This method produces everything in a single groupby function.\n",
    "Drug_Regimen = merged_df.groupby([\"Drug Regimen\"])\n",
    "Drug_Regimen.head()\n",
    "\n",
    "Drug_Regimen_mean = Drug_Regimen[\"Tumor Volume (mm3)\"].mean()\n",
    "Drug_Regimen_median = Drug_Regimen[\"Tumor Volume (mm3)\"].median()\n",
    "Drug_Regimen_variance = Drug_Regimen[\"Tumor Volume (mm3)\"].var()\n",
    "Drug_Regimen_std = Drug_Regimen[\"Tumor Volume (mm3)\"].std()\n",
    "Drug_Regimen_sem = Drug_Regimen[\"Tumor Volume (mm3)\"].sem()\n",
    "\n",
    "Summary = pd.DataFrame({\"Mean\":Drug_Regimen_mean, \"Median\":Drug_Regimen_median, \"Variance\":Drug_Regimen_variance, \"Standard Deviation\":Drug_Regimen_std, \"SEM\":Drug_Regimen_sem})\n",
    "Summary"
   ]
  },
  {
   "cell_type": "markdown",
   "metadata": {},
   "source": [
    "## Bar Plots"
   ]
  },
  {
   "cell_type": "code",
   "execution_count": 5,
   "metadata": {
    "scrolled": true
   },
   "outputs": [
    {
     "data": {
      "image/png": "[encoded data removed]",
      "text/plain": [
       "<Figure size 432x288 with 1 Axes>"
      ]
     },
     "metadata": {
      "needs_background": "light"
     },
     "output_type": "display_data"
    }
   ],
   "source": [
    "# Generate a bar plot showing the number of mice per time point for each treatment throughout the course of the study using pandas.\n",
    "\n",
    " # First create a dataframe grouping by the 'Drug Regimen' column \n",
    "drug_group = merged_df.groupby('Drug Regimen') \n",
    " \n",
    "# Create a dataframe counting the number of data points for each Drug Regimen \n",
    "drug_group_count = pd.DataFrame(drug_group['Drug Regimen'].count()) \n",
    " \n",
    "# Create a bar chart based off of the group series from before and label the title \n",
    "count_chart = drug_group_count.plot(kind='bar', title=\"Count of data points for each Drug Regimen\", color=\"orange\") \n",
    " \n",
    "# Set the xlabel and ylabel using class methods \n",
    "count_chart.set_xlabel(\"Drug Regimen\") \n",
    "count_chart.set_ylabel(\"Count\") \n",
    "#plt.tight_layout() \n",
    "\n",
    "# Save the figure \n",
    "plt.savefig(\"figures/PandaBarChart.png\") \n",
    " \n",
    "plt.show()"
   ]
  },
  {
   "cell_type": "code",
   "execution_count": 6,
   "metadata": {},
   "outputs": [
    {
     "data": {
      "image/png": "[encoded data removed]",
      "text/plain": [
       "<Figure size 432x288 with 1 Axes>"
      ]
     },
     "metadata": {
      "needs_background": "light"
     },
     "output_type": "display_data"
    }
   ],
   "source": [
    "# Generate a bar plot showing the number of mice per time point for each treatment throughout the course of the study using pyplot.\n",
    "\n",
    "x_axis = np.arange(0, len(drug_group_count))\n",
    "tick_locations = [value for value in x_axis]\n",
    "\n",
    "plt.title(\"Count of mice for each Drug Regimen\")\n",
    "plt.xlabel(\"Drug Regimen\")\n",
    "plt.ylabel(\"Count\")\n",
    "\n",
    "plt.xlim(-0.75, len(drug_group)-0.25)\n",
    "plt.ylim(0, max(drug_group_count[\"Drug Regimen\"]) +5)\n",
    "\n",
    "plt.bar(x_axis,drug_group_count[\"Drug Regimen\"],facecolor='orange',alpha=0.75, align= 'center')\n",
    "plt.xticks(tick_locations, list(drug_group_count.index), rotation=\"vertical\")\n",
    "\n",
    "column_name = [\"Drug Regimen\"] \n",
    "plt.legend(column_name,loc=\"best\")\n",
    "plt.savefig(\"figures/PyplotBarChart.png\")\n",
    "plt.show()"
   ]
  },
  {
   "cell_type": "markdown",
   "metadata": {},
   "source": [
    "## Pie Plots"
   ]
  },
  {
   "cell_type": "code",
   "execution_count": 7,
   "metadata": {},
   "outputs": [
    {
     "data": {
      "text/html": [
       "<div>\n",
       "<style scoped>\n",
       "    .dataframe tbody tr th:only-of-type {\n",
       "        vertical-align: middle;\n",
       "    }\n",
       "\n",
       "    .dataframe tbody tr th {\n",
       "        vertical-align: top;\n",
       "    }\n",
       "\n",
       "    .dataframe thead th {\n",
       "        text-align: right;\n",
       "    }\n",
       "</style>\n",
       "<table border=\"1\" class=\"dataframe\">\n",
       "  <thead>\n",
       "    <tr style=\"text-align: right;\">\n",
       "      <th></th>\n",
       "      <th>Sex</th>\n",
       "    </tr>\n",
       "    <tr>\n",
       "      <th>Sex</th>\n",
       "      <th></th>\n",
       "    </tr>\n",
       "  </thead>\n",
       "  <tbody>\n",
       "    <tr>\n",
       "      <th>Female</th>\n",
       "      <td>935</td>\n",
       "    </tr>\n",
       "    <tr>\n",
       "      <th>Male</th>\n",
       "      <td>958</td>\n",
       "    </tr>\n",
       "  </tbody>\n",
       "</table>\n",
       "</div>"
      ],
      "text/plain": [
       "        Sex\n",
       "Sex        \n",
       "Female  935\n",
       "Male    958"
      ]
     },
     "execution_count": 7,
     "metadata": {},
     "output_type": "execute_result"
    }
   ],
   "source": [
    "# Generate a pie plot showing the distribution of female versus male mice using pandas\n",
    "# First create a dataframe grouping by the 'Sex' column \n",
    "gender_group = merged_df.groupby('Sex') \n",
    " \n",
    "# Create a dataframe counting the number of data points for each gender \n",
    "gender_group_count = pd.DataFrame(gender_group['Sex'].count()) \n",
    " \n",
    "# View the groupby dataframe \n",
    "gender_group_count"
   ]
  },
  {
   "cell_type": "code",
   "execution_count": 8,
   "metadata": {},
   "outputs": [
    {
     "data": {
      "image/png": "[encoded data removed]",
      "text/plain": [
       "<Figure size 432x288 with 1 Axes>"
      ]
     },
     "metadata": {},
     "output_type": "display_data"
    }
   ],
   "source": [
    "# Create a pie chart based off of the group series from before \n",
    "gender_group_count.plot(kind='pie', y='Sex', \\\n",
    "                        title=\"Distribution of female versus male mice\",startangle=140,\\\n",
    "                        autopct='%1.1f%%',shadow=True, fontsize=16, colors =[\"lightgreen\",\"yellow\"],legend =False) \n",
    "\n",
    "# Make the axis equal to avoid plotting an egg shaped pie chart \n",
    "plt.axis(\"equal\") \n",
    "plt.savefig(\"figures/PandaPieChart.png\") \n",
    "plt.show()"
   ]
  },
  {
   "cell_type": "code",
   "execution_count": 9,
   "metadata": {},
   "outputs": [
    {
     "data": {
      "image/png": "[encoded data removed]",
      "text/plain": [
       "<Figure size 432x288 with 1 Axes>"
      ]
     },
     "metadata": {},
     "output_type": "display_data"
    }
   ],
   "source": [
    "# Generate a pie plot showing the distribution of female versus male mice using pyplot\n",
    "\n",
    "# Get Labels for our pie chart from the index values of the groupby dataframe \n",
    "genders = list(gender_group_count.index.values) \n",
    " \n",
    "# The values of each section of the pie chart \n",
    "gender_counts = gender_group_count['Sex'] \n",
    " \n",
    "# The colors of each section of the pie chart \n",
    "colors = [\"lightgreen\", \"yellow\"] \n",
    " \n",
    "# Creates the pie chart based upon the values above # Automatically finds the percentages of each part of the pie chart \n",
    "plt.pie(gender_counts, labels=genders, colors=colors,\n",
    "        autopct=\"%1.1f%%\", shadow=True, startangle=140)\n",
    "plt.rcParams['font.size'] = 16 \n",
    "plt.title(\"Distribution of female versus male mice\") \n",
    "plt.ylabel(\"Sex\") \n",
    "plt.axis(\"equal\") \n",
    "plt.savefig(\"figures/PyplotPieChart.png\") \n",
    "plt.show()"
   ]
  },
  {
   "cell_type": "markdown",
   "metadata": {},
   "source": [
    "## Quartiles, Outliers and Boxplots"
   ]
  },
  {
   "cell_type": "code",
   "execution_count": 11,
   "metadata": {},
   "outputs": [
    {
     "data": {
      "text/html": [
       "<div>\n",
       "<style scoped>\n",
       "    .dataframe tbody tr th:only-of-type {\n",
       "        vertical-align: middle;\n",
       "    }\n",
       "\n",
       "    .dataframe tbody tr th {\n",
       "        vertical-align: top;\n",
       "    }\n",
       "\n",
       "    .dataframe thead th {\n",
       "        text-align: right;\n",
       "    }\n",
       "</style>\n",
       "<table border=\"1\" class=\"dataframe\">\n",
       "  <thead>\n",
       "    <tr style=\"text-align: right;\">\n",
       "      <th></th>\n",
       "      <th>Mouse ID</th>\n",
       "      <th>Timepoint</th>\n",
       "      <th>Tumor Volume (mm3)</th>\n",
       "      <th>Metastatic Sites</th>\n",
       "      <th>Drug Regimen</th>\n",
       "      <th>Sex</th>\n",
       "      <th>Age_months</th>\n",
       "      <th>Weight (g)</th>\n",
       "    </tr>\n",
       "  </thead>\n",
       "  <tbody>\n",
       "    <tr>\n",
       "      <th>0</th>\n",
       "      <td>b128</td>\n",
       "      <td>0</td>\n",
       "      <td>45.0</td>\n",
       "      <td>0</td>\n",
       "      <td>Capomulin</td>\n",
       "      <td>Female</td>\n",
       "      <td>9</td>\n",
       "      <td>22</td>\n",
       "    </tr>\n",
       "    <tr>\n",
       "      <th>1460</th>\n",
       "      <td>w584</td>\n",
       "      <td>0</td>\n",
       "      <td>45.0</td>\n",
       "      <td>0</td>\n",
       "      <td>Infubinol</td>\n",
       "      <td>Male</td>\n",
       "      <td>3</td>\n",
       "      <td>29</td>\n",
       "    </tr>\n",
       "    <tr>\n",
       "      <th>1006</th>\n",
       "      <td>p136</td>\n",
       "      <td>0</td>\n",
       "      <td>45.0</td>\n",
       "      <td>0</td>\n",
       "      <td>Zoniferol</td>\n",
       "      <td>Female</td>\n",
       "      <td>5</td>\n",
       "      <td>28</td>\n",
       "    </tr>\n",
       "    <tr>\n",
       "      <th>461</th>\n",
       "      <td>a411</td>\n",
       "      <td>0</td>\n",
       "      <td>45.0</td>\n",
       "      <td>0</td>\n",
       "      <td>Ramicane</td>\n",
       "      <td>Male</td>\n",
       "      <td>3</td>\n",
       "      <td>22</td>\n",
       "    </tr>\n",
       "    <tr>\n",
       "      <th>1467</th>\n",
       "      <td>b447</td>\n",
       "      <td>0</td>\n",
       "      <td>45.0</td>\n",
       "      <td>0</td>\n",
       "      <td>Ceftamin</td>\n",
       "      <td>Male</td>\n",
       "      <td>2</td>\n",
       "      <td>30</td>\n",
       "    </tr>\n",
       "  </tbody>\n",
       "</table>\n",
       "</div>"
      ],
      "text/plain": [
       "     Mouse ID  Timepoint  Tumor Volume (mm3)  Metastatic Sites Drug Regimen  \\\n",
       "0        b128          0                45.0                 0    Capomulin   \n",
       "1460     w584          0                45.0                 0    Infubinol   \n",
       "1006     p136          0                45.0                 0    Zoniferol   \n",
       "461      a411          0                45.0                 0     Ramicane   \n",
       "1467     b447          0                45.0                 0     Ceftamin   \n",
       "\n",
       "         Sex  Age_months  Weight (g)  \n",
       "0     Female           9          22  \n",
       "1460    Male           3          29  \n",
       "1006  Female           5          28  \n",
       "461     Male           3          22  \n",
       "1467    Male           2          30  "
      ]
     },
     "execution_count": 11,
     "metadata": {},
     "output_type": "execute_result"
    }
   ],
   "source": [
    "# For final analysis, determined starting tumor volume size\n",
    "merged_timepoint_df = merged_df.sort_values(\"Timepoint\", ascending = True)\n",
    "merged_timepoint_df.head()"
   ]
  },
  {
   "cell_type": "code",
   "execution_count": 12,
   "metadata": {},
   "outputs": [
    {
     "name": "stdout",
     "output_type": "stream",
     "text": [
      "The lower quartile of Tumor volume (mm3) is: 32.37735684\n",
      "The upper quartile of Tumor Volume (mm3) is: 40.1592203\n",
      "The interquartile range of Tumor Volume (mm3) is: 7.781863460000004\n",
      "The the median of Tumor Volume (mm3) is: 38.125164399999996 \n",
      "Values below 20.70456164999999 could be outliers.\n",
      "Values above 51.83201549 could be outliers.\n"
     ]
    }
   ],
   "source": [
    "# Calculate the final tumor volume of each mouse across four of the most promising treatment regimens. Calculate the IQR and quantitatively determine if there are any potential outliers. \n",
    "#quartiles = drug_group.quantile([.25,.5,.75])\n",
    "#lowerq = quartiles[0.25]\n",
    "#upperq = quartiles[0.75]\n",
    "#iqr = upperq-lowerq\n",
    "\n",
    "# Grab just data for the Capomulin regimen\n",
    "Capomulin_regimenData = merged_df[(merged_df[\"Drug Regimen\"] == \"Capomulin\")]\n",
    "\n",
    "# Sort by Timepoints based on the latest values\n",
    "Capomulin_regimenData = Capomulin_regimenData.sort_values(\"Timepoint\", ascending = False)\n",
    "\n",
    "# Dropping duplicates, keeping first value, should be the latest timepoint per mouse \n",
    "Capomulin_Timepoint_df = Capomulin_regimenData.drop_duplicates(subset=\"Mouse ID\", keep = 'first')\n",
    "\n",
    "# Reporting out just Tumor Volume\n",
    "Capomulin_regimenPlot = Capomulin_Timepoint_df[\"Tumor Volume (mm3)\"]\n",
    "\n",
    "\n",
    "# quartile calculations\n",
    "Capomulin_quartiles = Capomulin_regimenPlot.quantile([.25,.5,.75])\n",
    "Capomulin_lowerq = Capomulin_quartiles[0.25]\n",
    "Capomulin_upperq = Capomulin_quartiles[0.75]\n",
    "Capomulin_iqr = Capomulin_upperq-Capomulin_lowerq\n",
    "\n",
    "print(f\"The lower quartile of Tumor volume (mm3) is: {Capomulin_lowerq}\")\n",
    "print(f\"The upper quartile of Tumor Volume (mm3) is: {Capomulin_upperq}\")\n",
    "print(f\"The interquartile range of Tumor Volume (mm3) is: {Capomulin_iqr}\")\n",
    "print(f\"The the median of Tumor Volume (mm3) is: {Capomulin_quartiles[0.5]} \")\n",
    "\n",
    "Capomulin_lower_bound = Capomulin_lowerq - (1.5*Capomulin_iqr)\n",
    "Capomulin_lower_bound = Capomulin_lowerq - (1.5*Capomulin_iqr)\n",
    "Capomulin_upper_bound = Capomulin_upperq + (1.5*Capomulin_iqr)\n",
    "print(f\"Values below {Capomulin_lower_bound} could be outliers.\")\n",
    "print(f\"Values above {Capomulin_upper_bound} could be outliers.\")"
   ]
  },
  {
   "cell_type": "code",
   "execution_count": 13,
   "metadata": {},
   "outputs": [
    {
     "data": {
      "image/png": "[encoded data removed]",
      "text/plain": [
       "<Figure size 432x288 with 1 Axes>"
      ]
     },
     "metadata": {},
     "output_type": "display_data"
    }
   ],
   "source": [
    "# For final data analysis, determine population mix\n",
    "Cap_gender_group = Capomulin_regimenData.groupby('Sex') \n",
    "Cap_gender_group_count = pd.DataFrame(Cap_gender_group['Sex'].count())  \n",
    "Cap_gender_group_count \n",
    "Cap_gender_group_count.plot(kind='pie', y='Sex', \\\n",
    "                        title=\"(Capomulin) Distribution of female versus male mice\",startangle=140,\\\n",
    "                        autopct='%1.1f%%',shadow=True, fontsize=16, colors =[\"lightgreen\",\"yellow\"],legend =False) \n",
    "plt.axis(\"equal\") \n",
    "plt.savefig(\"figures/CapomulinPieChart.png\") \n",
    "plt.show()"
   ]
  },
  {
   "cell_type": "code",
   "execution_count": 14,
   "metadata": {},
   "outputs": [
    {
     "name": "stdout",
     "output_type": "stream",
     "text": [
      "The lower quartile of Tumor volume (mm3) is: 31.56046955\n",
      "The upper quartile of Tumor Volume (mm3) is: 40.65900627\n",
      "The interquartile range of Tumor Volume (mm3) is: 9.098536719999998\n",
      "The the median of Tumor Volume (mm3) is: 36.56165229 \n",
      "Values below 17.912664470000003 could be outliers.\n",
      "Values above 54.30681135 could be outliers.\n"
     ]
    }
   ],
   "source": [
    "# Grab just data for the Ramicane regimen\n",
    "Ramicane_regimenData = merged_df[(merged_df[\"Drug Regimen\"] == \"Ramicane\")]\n",
    "\n",
    "# Sort by Timepoints based on the latest values\n",
    "Ramicane_regimenData = Ramicane_regimenData.sort_values(\"Timepoint\", ascending = False)\n",
    "\n",
    "# Dropping duplicates, keeping first value, should be the latest timepoint per mouse\n",
    "Ramicane_Timepoint_df = Ramicane_regimenData.drop_duplicates(subset=\"Mouse ID\", keep = 'first')\n",
    "\n",
    "# Reporting out just Tumor Volume\n",
    "Ramicane_regimenPlot = Ramicane_Timepoint_df[\"Tumor Volume (mm3)\"]\n",
    "\n",
    "\n",
    "# quartile calculations\n",
    "Ramicane_quartiles = Ramicane_regimenPlot.quantile([.25,.5,.75])\n",
    "Ramicane_lowerq = Ramicane_quartiles[0.25]\n",
    "Ramicane_upperq = Ramicane_quartiles[0.75]\n",
    "Ramicane_iqr = Ramicane_upperq-Ramicane_lowerq\n",
    "\n",
    "print(f\"The lower quartile of Tumor volume (mm3) is: {Ramicane_lowerq}\")\n",
    "print(f\"The upper quartile of Tumor Volume (mm3) is: {Ramicane_upperq}\")\n",
    "print(f\"The interquartile range of Tumor Volume (mm3) is: {Ramicane_iqr}\")\n",
    "print(f\"The the median of Tumor Volume (mm3) is: {Ramicane_quartiles[0.5]} \")\n",
    "\n",
    "Ramicane_lower_bound = Ramicane_lowerq - (1.5*Ramicane_iqr)\n",
    "Ramicane_upper_bound = Ramicane_upperq + (1.5*Ramicane_iqr)\n",
    "print(f\"Values below {Ramicane_lower_bound} could be outliers.\")\n",
    "print(f\"Values above {Ramicane_upper_bound} could be outliers.\")"
   ]
  },
  {
   "cell_type": "code",
   "execution_count": 15,
   "metadata": {},
   "outputs": [
    {
     "data": {
      "image/png": "[encoded data removed]",
      "text/plain": [
       "<Figure size 432x288 with 1 Axes>"
      ]
     },
     "metadata": {},
     "output_type": "display_data"
    }
   ],
   "source": [
    "# For final data analysis, determine population mix\n",
    "Ram_gender_group = Ramicane_regimenData.groupby('Sex') \n",
    "Ram_gender_group_count = pd.DataFrame(Ram_gender_group['Sex'].count())  \n",
    "Ram_gender_group_count \n",
    "Ram_gender_group_count.plot(kind='pie', y='Sex', \\\n",
    "                        title=\"(Ramicane) Distribution of female versus male mice\",startangle=140,\\\n",
    "                        autopct='%1.1f%%',shadow=True, fontsize=16, colors =[\"lightgreen\",\"yellow\"],legend =False) \n",
    "plt.axis(\"equal\") \n",
    "plt.savefig(\"figures/RamicanePieChart.png\") \n",
    "plt.show()"
   ]
  },
  {
   "cell_type": "code",
   "execution_count": 16,
   "metadata": {},
   "outputs": [
    {
     "name": "stdout",
     "output_type": "stream",
     "text": [
      "The lower quartile of Tumor volume (mm3) is: 54.04860769\n",
      "The upper quartile of Tumor Volume (mm3) is: 65.52574285\n",
      "The interquartile range of Tumor Volume (mm3) is: 11.477135160000003\n",
      "The the median of Tumor Volume (mm3) is: 60.16518046 \n",
      "Values below 36.83290494999999 could be outliers.\n",
      "Values above 82.74144559000001 could be outliers.\n"
     ]
    }
   ],
   "source": [
    "# Grab just data for the Infubinol regimem\n",
    "Infubinol_regimenData = merged_df[(merged_df[\"Drug Regimen\"] == \"Infubinol\")]\n",
    "\n",
    "# Sort by Timepoints based on the latest values\n",
    "Infubinol_regimenData = Infubinol_regimenData.sort_values(\"Timepoint\", ascending = False)\n",
    "\n",
    "# Dropping duplicates, keeping first value, should be the latest timepoint per mouse\n",
    "Infubinol_Timepoint_df = Infubinol_regimenData.drop_duplicates(subset=\"Mouse ID\", keep = 'first')\n",
    "\n",
    "# Reporting out just Tumor Volume\n",
    "Infubinol_regimenPlot = Infubinol_Timepoint_df[\"Tumor Volume (mm3)\"]\n",
    "\n",
    "# quartile calculations\n",
    "Infubinol_quartiles = Infubinol_regimenPlot.quantile([.25,.5,.75])\n",
    "Infubinol_lowerq = Infubinol_quartiles[0.25]\n",
    "Infubinol_upperq = Infubinol_quartiles[0.75]\n",
    "Infubinol_iqr = Infubinol_upperq-Infubinol_lowerq\n",
    "\n",
    "print(f\"The lower quartile of Tumor volume (mm3) is: {Infubinol_lowerq}\")\n",
    "print(f\"The upper quartile of Tumor Volume (mm3) is: {Infubinol_upperq}\")\n",
    "print(f\"The interquartile range of Tumor Volume (mm3) is: {Infubinol_iqr}\")\n",
    "print(f\"The the median of Tumor Volume (mm3) is: {Infubinol_quartiles[0.5]} \")\n",
    "\n",
    "Infubinol_lower_bound = Infubinol_lowerq - (1.5*Infubinol_iqr)\n",
    "Infubinol_upper_bound = Infubinol_upperq + (1.5*Infubinol_iqr)\n",
    "print(f\"Values below {Infubinol_lower_bound} could be outliers.\")\n",
    "print(f\"Values above {Infubinol_upper_bound} could be outliers.\")"
   ]
  },
  {
   "cell_type": "code",
   "execution_count": 17,
   "metadata": {},
   "outputs": [
    {
     "name": "stdout",
     "output_type": "stream",
     "text": [
      "The lower quartile of Tumor volume (mm3) is: 48.72207785\n",
      "The upper quartile of Tumor Volume (mm3) is: 64.29983003\n",
      "The interquartile range of Tumor Volume (mm3) is: 15.577752179999997\n",
      "The the median of Tumor Volume (mm3) is: 59.85195552 \n",
      "Values below 25.355449580000002 could be outliers.\n",
      "Values above 87.66645829999999 could be outliers.\n"
     ]
    }
   ],
   "source": [
    "# Grab just data for the Capomulin regimen\n",
    "Ceftamin_regimenData = merged_df[(merged_df[\"Drug Regimen\"] == \"Ceftamin\")]\n",
    "\n",
    "# Sort by Timepoints based on the latest values\n",
    "Ceftamin_regimenData = Ceftamin_regimenData.sort_values(\"Timepoint\", ascending = False)\n",
    "\n",
    "# Dropping duplicates, keeping first value, should be the latest timepoint per mouse\n",
    "Ceftamin_Timepoint_df = Ceftamin_regimenData.drop_duplicates(subset=\"Mouse ID\", keep = 'first')\n",
    "\n",
    "# Reporting out just Tumor Volume\n",
    "Ceftamin_regimenPlot = Ceftamin_Timepoint_df[\"Tumor Volume (mm3)\"]\n",
    "\n",
    "# quartile calculations\n",
    "Ceftamin_quartiles = Ceftamin_regimenPlot.quantile([.25,.5,.75])\n",
    "Ceftamin_lowerq = Ceftamin_quartiles[0.25]\n",
    "Ceftamin_upperq = Ceftamin_quartiles[0.75]\n",
    "Ceftamin_iqr = Ceftamin_upperq-Ceftamin_lowerq\n",
    "\n",
    "print(f\"The lower quartile of Tumor volume (mm3) is: {Ceftamin_lowerq}\")\n",
    "print(f\"The upper quartile of Tumor Volume (mm3) is: {Ceftamin_upperq}\")\n",
    "print(f\"The interquartile range of Tumor Volume (mm3) is: {Ceftamin_iqr}\")\n",
    "print(f\"The the median of Tumor Volume (mm3) is: {Ceftamin_quartiles[0.5]} \")\n",
    "\n",
    "Ceftamin_lower_bound = Ceftamin_lowerq - (1.5*Ceftamin_iqr)\n",
    "Ceftamin_upper_bound = Ceftamin_upperq + (1.5*Ceftamin_iqr)\n",
    "print(f\"Values below {Ceftamin_lower_bound} could be outliers.\")\n",
    "print(f\"Values above {Ceftamin_upper_bound} could be outliers.\")"
   ]
  },
  {
   "cell_type": "code",
   "execution_count": 20,
   "metadata": {},
   "outputs": [
    {
     "data": {
      "image/png": "[encoded data removed]",
      "text/plain": [
       "<Figure size 720x504 with 1 Axes>"
      ]
     },
     "metadata": {
      "needs_background": "light"
     },
     "output_type": "display_data"
    }
   ],
   "source": [
    "# Generate a box plot of the final tumor volume of each mouse across four regimens of interest\n",
    "data = [Capomulin_regimenPlot, Ramicane_regimenPlot, Infubinol_regimenPlot,Ceftamin_regimenPlot] \n",
    "fig = plt.figure(figsize =(10, 7)) \n",
    "  \n",
    "# Creating axes instance \n",
    "ax = fig.add_axes([0, 0, 1, 1]) \n",
    "ax.set_title('Final tumor volume of each mouse across four regimens of interest')\n",
    "ax.set_xticklabels(['Capomulin', 'Ramicane', 'Infubinol', 'Ceftamin'])\n",
    "\n",
    "#change coloar and style of outliers\n",
    "blue_diamond = dict(markerfacecolor='b', marker='D')\n",
    "\n",
    "# Creating plot \n",
    "bp = ax.boxplot(data,flierprops=blue_diamond) \n",
    "\n",
    "plt.savefig(\"figures/PyplotBoxPlot.png\")  \n",
    "\n",
    "# show plot \n",
    "plt.show() "
   ]
  },
  {
   "cell_type": "markdown",
   "metadata": {},
   "source": [
    "## Line and Scatter Plots"
   ]
  },
  {
   "cell_type": "code",
   "execution_count": 21,
   "metadata": {},
   "outputs": [
    {
     "data": {
      "image/png": "[encoded data removed]",
      "text/plain": [
       "<Figure size 432x288 with 1 Axes>"
      ]
     },
     "metadata": {
      "needs_background": "light"
     },
     "output_type": "display_data"
    }
   ],
   "source": [
    "# Generate a line plot of time point versus tumor volume for a mouse treated with Capomulin\n",
    "\n",
    "# Filter original data for just the Capomulin Drug Regime and single mouse\n",
    "Capomulin_df = merged_df.loc[(merged_df[\"Drug Regimen\"] == \"Capomulin\"),:]\n",
    "single_mouse_df = Capomulin_df.loc[Capomulin_df[\"Mouse ID\"] ==\"m601\",:]\n",
    "\n",
    "# Set variables to hold relevant data\n",
    "timepoint = single_mouse_df[\"Timepoint\"]\n",
    "tumor_volume = single_mouse_df[\"Tumor Volume (mm3)\"]\n",
    "\n",
    "# Plot the tumor volume for various mice\n",
    "tumor_volume_line, = plt.plot(timepoint, tumor_volume)\n",
    "\n",
    "# Show the chart, add labels\n",
    "plt.xlabel('Time Point')\n",
    "plt.ylabel('Tumor Volume')\n",
    "plt.title('Tumor Volume over Time for Capomulin Mouse m601')\n",
    "plt.grid(True)\n",
    "plt.savefig(\"figures/PyplotLinePlot.png\")\n",
    "plt.show()"
   ]
  },
  {
   "cell_type": "code",
   "execution_count": 22,
   "metadata": {},
   "outputs": [
    {
     "data": {
      "text/plain": [
       "<Figure size 432x288 with 0 Axes>"
      ]
     },
     "metadata": {},
     "output_type": "display_data"
    },
    {
     "data": {
      "image/png": "[encoded data removed]",
      "text/plain": [
       "<Figure size 432x288 with 1 Axes>"
      ]
     },
     "metadata": {
      "needs_background": "light"
     },
     "output_type": "display_data"
    }
   ],
   "source": [
    "# Generate a scatter plot of mouse weight versus average tumor volume for the Capomulin regimen\n",
    "scatterData = merged_df[(merged_df[\"Drug Regimen\"] == \"Capomulin\")]\n",
    "scatterData = scatterData[[\"Mouse ID\", \"Weight (g)\", \"Tumor Volume (mm3)\"]]\n",
    "groupByData = scatterData.groupby([\"Mouse ID\",\"Weight (g)\"])\n",
    "scatterDataDF = groupByData[\"Tumor Volume (mm3)\"].mean()#.to_frame()\n",
    "scatterDataDF = scatterDataDF.reset_index()\n",
    "\n",
    "plt.figure()\n",
    "scatterDataDF.plot(x=\"Weight (g)\", y=\"Tumor Volume (mm3)\", kind = \"scatter\", marker=\"o\")\n",
    "\n",
    "plt.title(\"Mouse Weight Vs Average Tumor Volume\")\n",
    "#plt.xlim(10, 25)\n",
    "#plt.ylim(30, 50)\n",
    "plt.xlabel(\"Mouse Weight\")\n",
    "plt.ylabel(\"Average Tumor Volume (mm3)\")\n",
    "plt.grid(True)\n",
    "plt.savefig(\"figures/PyplotScatterPlot.png\")\n",
    "plt.show()"
   ]
  },
  {
   "cell_type": "markdown",
   "metadata": {},
   "source": [
    "## Correlation and Regression"
   ]
  },
  {
   "cell_type": "code",
   "execution_count": 23,
   "metadata": {},
   "outputs": [
    {
     "name": "stdout",
     "output_type": "stream",
     "text": [
      "The correlation between both factors is 0.84\n"
     ]
    },
    {
     "data": {
      "image/png": "[encoded data removed]",
      "text/plain": [
       "<Figure size 432x288 with 1 Axes>"
      ]
     },
     "metadata": {
      "needs_background": "light"
     },
     "output_type": "display_data"
    }
   ],
   "source": [
    "# Calculate the correlation coefficient and linear regression model \n",
    "# for mouse weight and average tumor volume for the Capomulin regimen\n",
    "correlation = st.pearsonr(scatterDataDF[\"Weight (g)\"],scatterDataDF[\"Tumor Volume (mm3)\"]) \n",
    "\n",
    "x_values = scatterDataDF[\"Weight (g)\"]\n",
    "y_values = scatterDataDF[\"Tumor Volume (mm3)\"]\n",
    "(slope, intercept, rvalue, pvalue, stderr) = linregress(x_values, y_values)\n",
    "regress_values = x_values * slope + intercept\n",
    "line_eq = \"y = \" + str(round(slope,2)) + \"x + \" + str(round(intercept,2))\n",
    "plt.scatter(x_values,y_values)\n",
    "plt.plot(x_values,regress_values,\"r-\")\n",
    "plt.annotate(line_eq,(18,36),fontsize=15,color=\"red\")\n",
    "\n",
    "plt.title('Mouse weight vs. Avg. Tumor Volume')\n",
    "plt.xlabel('Mouse weight (g)')\n",
    "plt.ylabel('Tumor Volume (mm3)')\n",
    "\n",
    "plt.savefig(\"figures/PyplotLinearReg.png\")\n",
    "print(f\"The correlation between both factors is {round(correlation[0],2)}\")\n",
    "plt.show()"
   ]
  }
 ],
 "metadata": {
  "anaconda-cloud": {},
  "kernelspec": {
   "display_name": "Python 3",
   "language": "python",
   "name": "python3"
  },
  "language_info": {
   "codemirror_mode": {
    "name": "ipython",
    "version": 3
   },
   "file_extension": ".py",
   "mimetype": "text/x-python",
   "name": "python",
   "nbconvert_exporter": "python",
   "pygments_lexer": "ipython3",
   "version": "3.7.6"
  }
 },
 "nbformat": 4,
 "nbformat_minor": 2
}
